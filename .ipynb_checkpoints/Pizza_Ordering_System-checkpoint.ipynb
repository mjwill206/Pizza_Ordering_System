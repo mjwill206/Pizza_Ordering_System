{
 "cells": [
  {
   "cell_type": "markdown",
   "metadata": {},
   "source": [
    "# Day 3.2: Pizza Ordering System"
   ]
  },
  {
   "cell_type": "code",
   "execution_count": 9,
   "metadata": {},
   "outputs": [
    {
     "name": "stdout",
     "output_type": "stream",
     "text": [
      "Welcome to Python Pizza!\n",
      "\n",
      "-----\n",
      "Menu:\n",
      "\n",
      "Small Pizza: $15\n",
      "Add Pepperoni: +$2\n",
      "\n",
      "Medium Pizza: $20\n",
      "Add Pepperoni: +$3\n",
      "\n",
      "Large Pizza: $25\n",
      "Add Pepperoni: +$3\n",
      "\n",
      "Extra Cheese for Any Size Pizza: +$1\n",
      "-----\n",
      "\n"
     ]
    },
    {
     "name": "stdin",
     "output_type": "stream",
     "text": [
      "What size pizza would you like? (S, M, or L)\n",
      " L\n"
     ]
    },
    {
     "name": "stdout",
     "output_type": "stream",
     "text": [
      "\n"
     ]
    },
    {
     "name": "stdin",
     "output_type": "stream",
     "text": [
      "Would you like to add pepperoni? (Y or N)\n",
      " Y\n"
     ]
    },
    {
     "name": "stdout",
     "output_type": "stream",
     "text": [
      "\n"
     ]
    },
    {
     "name": "stdin",
     "output_type": "stream",
     "text": [
      "Would you like to add extra cheese? (Y or N)\n",
      " Y\n"
     ]
    },
    {
     "name": "stdout",
     "output_type": "stream",
     "text": [
      "\n",
      "Your total is $29.\n"
     ]
    }
   ],
   "source": [
    "print(\"Welcome to Python Pizza!\")\n",
    "print()\n",
    "print(\"-----\")\n",
    "print(\"Menu:\")\n",
    "print()\n",
    "print(\"Small Pizza: $15\")\n",
    "print(\"Add Pepperoni: +$2\")\n",
    "print()\n",
    "print(\"Medium Pizza: $20\")\n",
    "print(\"Add Pepperoni: +$3\")\n",
    "print()\n",
    "print(\"Large Pizza: $25\")\n",
    "print(\"Add Pepperoni: +$3\")\n",
    "print()\n",
    "print(\"Extra Cheese for Any Size Pizza: +$1\")\n",
    "print(\"-----\")\n",
    "print()\n",
    "\n",
    "size = input(\"What size pizza would you like? (S, M, or L)\\n\")\n",
    "while size not in \"SML\":\n",
    "    print()\n",
    "    size = input(\"Please enter a correct size. (S, M, or L)\\n\")\n",
    "    if size in \"SML\":\n",
    "        break\n",
    "print()\n",
    "\n",
    "add_pepperoni = input(\"Would you like to add pepperoni? (Y or N)\\n\")\n",
    "while add_pepperoni not in \"YN\":\n",
    "    print()\n",
    "    add_pepperoni = input(\"Please enter a correct option. (Y or N)\\n\")\n",
    "    if add_pepperoni in \"YN\":\n",
    "        break\n",
    "print()\n",
    "\n",
    "add_xtra_cheese = input(\"Would you like to add extra cheese? (Y or N)\\n\")\n",
    "while add_xtra_cheese not in \"YN\":\n",
    "    print()\n",
    "    add_xtra_cheese = input(\"Please enter a correct option. (Y or N)\\n\")\n",
    "    if add_xtra_cheese in \"YN\":\n",
    "        break\n",
    "print()\n",
    "\n",
    "bill = 0\n",
    "\n",
    "if size == \"L\":\n",
    "    bill += 25\n",
    "    if add_pepperoni == \"Y\":\n",
    "        bill += 3\n",
    "    if add_xtra_cheese == \"Y\":\n",
    "        bill += 1\n",
    "elif size == \"M\":\n",
    "    bill += 20\n",
    "    if add_pepperoni == \"Y\":\n",
    "        bill += 3\n",
    "    if add_xtra_cheese == \"Y\":\n",
    "        bill += 1\n",
    "else:\n",
    "    bill += 15\n",
    "    if add_pepperoni == \"Y\":\n",
    "        bill += 2\n",
    "    if add_xtra_cheese == \"Y\":\n",
    "        bill += 1\n",
    "\n",
    "print(f'Your total is ${bill}.')"
   ]
  },
  {
   "cell_type": "code",
   "execution_count": null,
   "metadata": {},
   "outputs": [],
   "source": []
  }
 ],
 "metadata": {
  "kernelspec": {
   "display_name": "Python 3",
   "language": "python",
   "name": "python3"
  },
  "language_info": {
   "codemirror_mode": {
    "name": "ipython",
    "version": 3
   },
   "file_extension": ".py",
   "mimetype": "text/x-python",
   "name": "python",
   "nbconvert_exporter": "python",
   "pygments_lexer": "ipython3",
   "version": "3.7.6"
  }
 },
 "nbformat": 4,
 "nbformat_minor": 4
}
